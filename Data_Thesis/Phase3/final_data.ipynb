{
 "cells": [
  {
   "cell_type": "code",
   "execution_count": 1,
   "id": "e6c0e0c9",
   "metadata": {},
   "outputs": [
    {
     "data": {
      "text/html": [
       "<div>\n",
       "<style scoped>\n",
       "    .dataframe tbody tr th:only-of-type {\n",
       "        vertical-align: middle;\n",
       "    }\n",
       "\n",
       "    .dataframe tbody tr th {\n",
       "        vertical-align: top;\n",
       "    }\n",
       "\n",
       "    .dataframe thead th {\n",
       "        text-align: right;\n",
       "    }\n",
       "</style>\n",
       "<table border=\"1\" class=\"dataframe\">\n",
       "  <thead>\n",
       "    <tr style=\"text-align: right;\">\n",
       "      <th></th>\n",
       "      <th>author</th>\n",
       "      <th>url</th>\n",
       "      <th>published_on</th>\n",
       "      <th>total_comments</th>\n",
       "      <th>video_description</th>\n",
       "      <th>comments</th>\n",
       "    </tr>\n",
       "  </thead>\n",
       "  <tbody>\n",
       "    <tr>\n",
       "      <th>0</th>\n",
       "      <td>delightmb</td>\n",
       "      <td>https://www.tiktok.com/@delightmb/video/721226...</td>\n",
       "      <td>19-3-2023</td>\n",
       "      <td>229</td>\n",
       "      <td>He was confident of me mot taking the streak s...</td>\n",
       "      <td>[who is this dude 💀, Do your research, 😭😭, bro...</td>\n",
       "    </tr>\n",
       "  </tbody>\n",
       "</table>\n",
       "</div>"
      ],
      "text/plain": [
       "      author                                                url published_on  \\\n",
       "0  delightmb  https://www.tiktok.com/@delightmb/video/721226...    19-3-2023   \n",
       "\n",
       "   total_comments                                  video_description  \\\n",
       "0             229  He was confident of me mot taking the streak s...   \n",
       "\n",
       "                                            comments  \n",
       "0  [who is this dude 💀, Do your research, 😭😭, bro...  "
      ]
     },
     "execution_count": 1,
     "metadata": {},
     "output_type": "execute_result"
    }
   ],
   "source": [
    "import json\n",
    "import pandas as pd\n",
    "\n",
    "with open(\"final_data.json\", \"r\") as file:\n",
    "    data = json.load(file)\n",
    "\n",
    "df = pd.DataFrame(columns=['author', 'url', 'published_on', 'total_comments','video_description', 'comments'])\n",
    "\n",
    "for i in range(len(data)):\n",
    "    df.loc[i] = [data[i]['author'], data[i]['url'], data[i]['published_on'], data[i]['total_comments'], data[i]['video_description'], data[i]['comments']]\n",
    "\n",
    "df"
   ]
  },
  {
   "cell_type": "code",
   "execution_count": null,
   "id": "702574e2",
   "metadata": {},
   "outputs": [],
   "source": []
  }
 ],
 "metadata": {
  "kernelspec": {
   "display_name": "Python 3 (ipykernel)",
   "language": "python",
   "name": "python3"
  },
  "language_info": {
   "codemirror_mode": {
    "name": "ipython",
    "version": 3
   },
   "file_extension": ".py",
   "mimetype": "text/x-python",
   "name": "python",
   "nbconvert_exporter": "python",
   "pygments_lexer": "ipython3",
   "version": "3.9.13"
  }
 },
 "nbformat": 4,
 "nbformat_minor": 5
}
